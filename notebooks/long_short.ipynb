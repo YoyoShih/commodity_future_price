{
 "cells": [
  {
   "cell_type": "code",
   "execution_count": 2,
   "id": "13b928d4",
   "metadata": {},
   "outputs": [],
   "source": [
    "import sys\n",
    "import os\n",
    "sys.path.append(os.path.abspath(\"D:\\\\Python\\\\commodity_futures_price\"))\n",
    "\n",
    "import math\n",
    "\n",
    "import numpy as np\n",
    "import pandas as pd\n",
    "\n",
    "import matplotlib.pyplot as plt\n",
    "\n",
    "from sklearn.preprocessing import StandardScaler\n",
    "from sklearn.linear_model import LinearRegression\n",
    "from sklearn.metrics import mean_squared_error\n",
    "\n",
    "# %load_ext autoreload\n",
    "# %autoreload 2\n",
    "%reload_ext autoreload\n",
    "from model.savvy_sh import SavvySh"
   ]
  },
  {
   "cell_type": "code",
   "execution_count": 3,
   "id": "ea3926d6",
   "metadata": {},
   "outputs": [],
   "source": [
    "df_dict_cc1 = {}\n",
    "valid_dates = pd.date_range(start=\"2011-01-01\", end=\"2024-12-31\", freq=\"B\")\n",
    "# Read each file in below folder\n",
    "path = \"../data/raw/\"\n",
    "files = os.listdir(path)\n",
    "for file in files:\n",
    "    if file.endswith(\".csv\"):\n",
    "        # Exclude LB, JN, LL, LN, LT, LX. due to data correctness issue\n",
    "        if file.startswith((\"LB\", \"JN\", \"LL\", \"LN\", \"LT\", \"LX\")):\n",
    "            continue\n",
    "        df = pd.read_csv(os.path.join(path, file), index_col=0, parse_dates=True)\n",
    "        df[\"Return\"] = df.iloc[:, 0:1].apply(lambda x: np.log(x.shift(-1) / x))\n",
    "        df = df.dropna()\n",
    "\n",
    "        non_positive_LA = df[(df[df.columns[0]] <= 0) | (df['Volatility'] <= 0)]\n",
    "        df = df.drop(index=non_positive_LA.index)\n",
    "\n",
    "        df_dict_cc1[file[:-4]] = df\n",
    "        valid_dates = valid_dates.intersection(df.index)\n",
    "for name, df in df_dict_cc1.items():\n",
    "    df_dict_cc1[name] = df[df.index.isin(valid_dates)]"
   ]
  },
  {
   "cell_type": "code",
   "execution_count": 21,
   "id": "a43c100d",
   "metadata": {},
   "outputs": [],
   "source": [
    "df_dict_cc2 = {}\n",
    "# Read each file in below folder\n",
    "path = \"../data/investing.com/\"\n",
    "files = os.listdir(path)\n",
    "for file in files:\n",
    "    if file.endswith(\".csv\"):\n",
    "        # Exclude LB due to data correctness issue\n",
    "        if file.startswith((\"LB\", \"JN\", \"LL\", \"LN\", \"LT\", \"LX\")):\n",
    "            continue\n",
    "        df = pd.read_csv(os.path.join(path, file), index_col=0, parse_dates=True, thousands=\",\")\n",
    "        df = df.iloc[:, 0:1].astype(float)\n",
    "        if (df <= 0).any().any():\n",
    "            print(f\"Non-positive values found in {file[:-4]}\")\n",
    "        df = df[df > 0]\n",
    "        df_dict_cc2[file[:-4]] = df"
   ]
  }
 ],
 "metadata": {
  "kernelspec": {
   "display_name": ".venv",
   "language": "python",
   "name": "python3"
  },
  "language_info": {
   "codemirror_mode": {
    "name": "ipython",
    "version": 3
   },
   "file_extension": ".py",
   "mimetype": "text/x-python",
   "name": "python",
   "nbconvert_exporter": "python",
   "pygments_lexer": "ipython3",
   "version": "3.11.2"
  }
 },
 "nbformat": 4,
 "nbformat_minor": 5
}
