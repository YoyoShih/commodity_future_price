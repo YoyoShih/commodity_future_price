{
 "cells": [
  {
   "cell_type": "markdown",
   "id": "e5f02e74",
   "metadata": {},
   "source": [
    "# Try Reproducing Everything to Stock"
   ]
  },
  {
   "cell_type": "code",
   "execution_count": 1,
   "id": "8d27d2fc",
   "metadata": {},
   "outputs": [],
   "source": [
    "import sys\n",
    "import os\n",
    "sys.path.append(os.path.abspath(\"D:\\\\Python\\\\commodity_futures_price\"))\n",
    "\n",
    "import numpy as np\n",
    "import pandas as pd\n",
    "\n",
    "from sklearn.linear_model import LinearRegression\n",
    "\n",
    "%load_ext autoreload\n",
    "%autoreload 2\n",
    "%reload_ext autoreload\n",
    "from model.savvy_sh import SavvySh\n",
    "\n",
    "import yfinance as yf\n",
    "\n",
    "from model.factor import Factor"
   ]
  },
  {
   "cell_type": "markdown",
   "id": "a456f5a7",
   "metadata": {},
   "source": [
    "### Download Necessary Data From yfinance (if haven't downloaded)"
   ]
  },
  {
   "cell_type": "code",
   "execution_count": 2,
   "id": "633267ce",
   "metadata": {},
   "outputs": [],
   "source": [
    "ticker = \"AAPL\"\n",
    "# download if not found in ../../data/yfinance/\n",
    "if not os.path.exists(f\"../../data/yfinance/{ticker}.csv\"):\n",
    "    data = yf.Ticker(ticker)\n",
    "    data = data.history(period=\"15Y\", repair=True)\n",
    "    data.index = data.index.date\n",
    "    data.to_csv(f\"../../data/yfinance/{ticker}.csv\")\n",
    "data = pd.read_csv(f\"../../data/yfinance/{ticker}.csv\", index_col=0, parse_dates=True)\n",
    "# check if there is any row with Repair = True\n",
    "data[data['Repaired?'] == True]\n",
    "\n",
    "factor = Factor(data, ticker=ticker)"
   ]
  },
  {
   "cell_type": "markdown",
   "id": "3098d40b",
   "metadata": {},
   "source": [
    "### Momentum"
   ]
  },
  {
   "cell_type": "code",
   "execution_count": 3,
   "id": "fa1e3862",
   "metadata": {},
   "outputs": [],
   "source": [
    "factor.add_momentum()"
   ]
  },
  {
   "cell_type": "markdown",
   "id": "41a8e771",
   "metadata": {},
   "source": [
    "### Skewness"
   ]
  },
  {
   "cell_type": "code",
   "execution_count": 4,
   "id": "aa7a3301",
   "metadata": {},
   "outputs": [],
   "source": [
    "factor.add_skewness()"
   ]
  },
  {
   "cell_type": "markdown",
   "id": "277f1cc9",
   "metadata": {},
   "source": [
    "### Volatility"
   ]
  },
  {
   "cell_type": "code",
   "execution_count": 5,
   "id": "e9d5e51e",
   "metadata": {},
   "outputs": [],
   "source": [
    "factor.add_Volatility()"
   ]
  },
  {
   "cell_type": "markdown",
   "id": "04f69501",
   "metadata": {},
   "source": [
    "### Open Interest"
   ]
  },
  {
   "cell_type": "code",
   "execution_count": 6,
   "id": "9ab340a7",
   "metadata": {},
   "outputs": [],
   "source": [
    "factor.add_Open_Interest()"
   ]
  },
  {
   "cell_type": "markdown",
   "id": "b35a01c3",
   "metadata": {},
   "source": [
    "### Value"
   ]
  },
  {
   "cell_type": "code",
   "execution_count": 7,
   "id": "d3da0f4d",
   "metadata": {},
   "outputs": [],
   "source": [
    "factor.add_Value()"
   ]
  },
  {
   "cell_type": "markdown",
   "id": "f276af68",
   "metadata": {},
   "source": [
    "### Inflation Beta"
   ]
  },
  {
   "cell_type": "code",
   "execution_count": 15,
   "id": "061b7d06",
   "metadata": {},
   "outputs": [],
   "source": [
    "factor.add_inflation_beta()"
   ]
  },
  {
   "cell_type": "code",
   "execution_count": 14,
   "id": "9d9dc2aa",
   "metadata": {},
   "outputs": [
    {
     "name": "stdout",
     "output_type": "stream",
     "text": [
      "                  Open        High         Low       Close     Volume  \\\n",
      "2015-10-28   26.277163   26.809764   26.081652   26.803020  342205600   \n",
      "2015-10-29   26.674922   27.122127   26.578290   27.086170  204909200   \n",
      "2015-10-30   27.189554   27.241242   26.843476   26.854713  197461200   \n",
      "2015-11-02   27.146849   27.272695   26.879425   27.232244  128813200   \n",
      "2015-11-03   27.144602   27.751360   27.124375   27.544613  182076000   \n",
      "...                ...         ...         ...         ...        ...   \n",
      "2025-06-24  202.360334  203.209377  199.973044  200.072937   54064000   \n",
      "2025-06-25  201.221637  203.439121  200.392576  201.331512   39525700   \n",
      "2025-06-26  201.201646  202.410281  199.233893  200.772141   50799100   \n",
      "2025-06-27  201.661130  202.989624  199.773273  200.852051   73188600   \n",
      "2025-06-30  201.780987  207.154893  199.034105  204.937408   91912800   \n",
      "\n",
      "            Dividends  Stock Splits  Repaired?  MOM_vol_adj  skewness  \\\n",
      "2015-10-28        0.0           0.0      False     8.240457 -0.063785   \n",
      "2015-10-29        0.0           0.0      False     8.573158 -0.066510   \n",
      "2015-10-30        0.0           0.0      False     8.210104 -0.063285   \n",
      "2015-11-02        0.0           0.0      False     8.510932 -0.064913   \n",
      "2015-11-03        0.0           0.0      False     8.411692 -0.064409   \n",
      "...               ...           ...        ...          ...       ...   \n",
      "2025-06-24        0.0           0.0      False    -1.988449  0.985829   \n",
      "2025-06-25        0.0           0.0      False    -1.187378  0.977619   \n",
      "2025-06-26        0.0           0.0      False    -1.471466  0.981112   \n",
      "2025-06-27        0.0           0.0      False    -1.665827  0.983759   \n",
      "2025-06-30        0.0           0.0      False    -1.649479  0.983557   \n",
      "\n",
      "            Volatility    Op_Int  Value_BM  Inflation_Beta  \n",
      "2015-10-28    0.016563  0.061379  0.798705        0.010189  \n",
      "2015-10-29    0.016572  0.036753  0.790355        0.010189  \n",
      "2015-10-30    0.016580  0.035417  0.797167        0.010189  \n",
      "2015-11-02    0.016593  0.023104  0.786116        0.009165  \n",
      "2015-11-03    0.016588  0.032657  0.777201        0.009165  \n",
      "...                ...       ...       ...             ...  \n",
      "2025-06-24    0.020251  0.003620  0.019058       -0.010927  \n",
      "2025-06-25    0.020244  0.002646  0.018939       -0.010927  \n",
      "2025-06-26    0.020243  0.003401  0.018992       -0.010927  \n",
      "2025-06-27    0.020242  0.004887  0.018931       -0.010927  \n",
      "2025-06-30    0.020243  0.006137  0.018554       -0.010927  \n",
      "\n",
      "[2431 rows x 14 columns]\n"
     ]
    }
   ],
   "source": [
    "print(data.dropna())"
   ]
  }
 ],
 "metadata": {
  "kernelspec": {
   "display_name": ".venv",
   "language": "python",
   "name": "python3"
  },
  "language_info": {
   "codemirror_mode": {
    "name": "ipython",
    "version": 3
   },
   "file_extension": ".py",
   "mimetype": "text/x-python",
   "name": "python",
   "nbconvert_exporter": "python",
   "pygments_lexer": "ipython3",
   "version": "3.11.2"
  }
 },
 "nbformat": 4,
 "nbformat_minor": 5
}
