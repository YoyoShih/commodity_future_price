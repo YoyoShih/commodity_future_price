{
 "cells": [
  {
   "cell_type": "markdown",
   "id": "e5f02e74",
   "metadata": {},
   "source": [
    "# Try Reproducing Everything to Stock"
   ]
  },
  {
   "cell_type": "code",
   "execution_count": 54,
   "id": "8d27d2fc",
   "metadata": {},
   "outputs": [],
   "source": [
    "import sys\n",
    "import os\n",
    "sys.path.append(os.path.abspath(\"D:\\\\Python\\\\commodity_futures_price\"))\n",
    "\n",
    "import numpy as np\n",
    "import pandas as pd\n",
    "\n",
    "from sklearn.linear_model import LinearRegression\n",
    "\n",
    "# %load_ext autoreload\n",
    "# %autoreload 2\n",
    "%reload_ext autoreload\n",
    "from model.savvy_sh import SavvySh\n",
    "\n",
    "import yfinance as yf\n",
    "\n",
    "from model.factor import Factor"
   ]
  },
  {
   "cell_type": "markdown",
   "id": "a456f5a7",
   "metadata": {},
   "source": [
    "### Download Necessary Data From yfinance (if haven't downloaded)"
   ]
  },
  {
   "cell_type": "code",
   "execution_count": 55,
   "id": "633267ce",
   "metadata": {},
   "outputs": [],
   "source": [
    "ticker = \"AAPL\"\n",
    "# download if not found in ../../data/yfinance/\n",
    "if not os.path.exists(f\"../../data/yfinance/{ticker}.csv\"):\n",
    "    data = yf.Ticker(ticker)\n",
    "    data = data.history(period=\"15Y\", repair=True)\n",
    "    data.index = data.index.date\n",
    "    data.to_csv(f\"../../data/yfinance/{ticker}.csv\")\n",
    "data = pd.read_csv(f\"../../data/yfinance/{ticker}.csv\", index_col=0, parse_dates=True)\n",
    "# check if there is any row with Repair = True\n",
    "data[data['Repaired?'] == True]\n",
    "\n",
    "factor = Factor(data, ticker=ticker)"
   ]
  },
  {
   "cell_type": "markdown",
   "id": "3098d40b",
   "metadata": {},
   "source": [
    "### Momentum"
   ]
  },
  {
   "cell_type": "code",
   "execution_count": 56,
   "id": "fa1e3862",
   "metadata": {},
   "outputs": [],
   "source": [
    "factor.add_momentum()"
   ]
  },
  {
   "cell_type": "markdown",
   "id": "41a8e771",
   "metadata": {},
   "source": [
    "### Skewness"
   ]
  },
  {
   "cell_type": "code",
   "execution_count": 57,
   "id": "aa7a3301",
   "metadata": {},
   "outputs": [],
   "source": [
    "factor.add_skewness()"
   ]
  },
  {
   "cell_type": "markdown",
   "id": "277f1cc9",
   "metadata": {},
   "source": [
    "### Volatility"
   ]
  },
  {
   "cell_type": "code",
   "execution_count": 58,
   "id": "e9d5e51e",
   "metadata": {},
   "outputs": [],
   "source": [
    "factor.add_Volatility()"
   ]
  },
  {
   "cell_type": "markdown",
   "id": "04f69501",
   "metadata": {},
   "source": [
    "### Open Interest"
   ]
  },
  {
   "cell_type": "code",
   "execution_count": 59,
   "id": "9ab340a7",
   "metadata": {},
   "outputs": [],
   "source": [
    "factor.add_Open_Interest()"
   ]
  },
  {
   "cell_type": "markdown",
   "id": "b35a01c3",
   "metadata": {},
   "source": [
    "### Value"
   ]
  },
  {
   "cell_type": "code",
   "execution_count": 60,
   "id": "d3da0f4d",
   "metadata": {},
   "outputs": [],
   "source": [
    "factor.add_Value()"
   ]
  },
  {
   "cell_type": "code",
   "execution_count": 61,
   "id": "9d9dc2aa",
   "metadata": {},
   "outputs": [],
   "source": [
    "data.to_csv(f'../../data/processed_stock/cleaned_{ticker}.csv')"
   ]
  }
 ],
 "metadata": {
  "kernelspec": {
   "display_name": ".venv",
   "language": "python",
   "name": "python3"
  },
  "language_info": {
   "codemirror_mode": {
    "name": "ipython",
    "version": 3
   },
   "file_extension": ".py",
   "mimetype": "text/x-python",
   "name": "python",
   "nbconvert_exporter": "python",
   "pygments_lexer": "ipython3",
   "version": "3.11.2"
  }
 },
 "nbformat": 4,
 "nbformat_minor": 5
}
