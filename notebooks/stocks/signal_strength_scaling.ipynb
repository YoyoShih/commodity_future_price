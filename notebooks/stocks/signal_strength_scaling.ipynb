{
 "cells": [
  {
   "cell_type": "markdown",
   "id": "0c58c830",
   "metadata": {},
   "source": [
    "# Conduct Backtest"
   ]
  },
  {
   "cell_type": "code",
   "execution_count": 9,
   "id": "910ef485",
   "metadata": {},
   "outputs": [],
   "source": [
    "import sys\n",
    "import os\n",
    "sys.path.append(os.path.abspath(\"D:\\\\Python\\\\commodity_futures_price\"))\n",
    "\n",
    "import math\n",
    "\n",
    "import numpy as np\n",
    "import pandas as pd\n",
    "\n",
    "import matplotlib.pyplot as plt\n",
    "\n",
    "from sklearn.preprocessing import StandardScaler\n",
    "from sklearn.linear_model import LinearRegression\n",
    "from sklearn.metrics import mean_squared_error\n",
    "\n",
    "# %load_ext autoreload\n",
    "# %autoreload 2\n",
    "%reload_ext autoreload\n",
    "from model.savvy_sh import SavvySh"
   ]
  },
  {
   "cell_type": "code",
   "execution_count": 10,
   "id": "5bc9f5ab",
   "metadata": {},
   "outputs": [],
   "source": [
    "data = pd.read_csv('../../data/processed_stock/cleaned_AAPL.csv', index_col=0, parse_dates=True).dropna()\n",
    "raw_y = data[\"Close\"]\n",
    "raw_X = data[[\"MOM_vol_adj\", \"Skewness\", \"Volatility\", \"Op_Int\", \"Value_BM\", \"Inflation_Beta\"]]"
   ]
  },
  {
   "cell_type": "code",
   "execution_count": 11,
   "id": "6c32ea05",
   "metadata": {},
   "outputs": [],
   "source": [
    "y = raw_y.pct_change().shift(-1).dropna()\n",
    "X = raw_X.iloc[:-1]"
   ]
  },
  {
   "cell_type": "code",
   "execution_count": null,
   "id": "0802f0be",
   "metadata": {},
   "outputs": [],
   "source": [
    "strategies = [\"OLS\", \"Stein\", \"DSh\", \"Sh\", \"SR\", \"GSR\", \"LSh\", \"SRR\"]\n",
    "wealth_dict = {strat: [10000] for strat in strategies}\n",
    "shares_dict = {strat: [0] for strat in strategies}\n",
    "\n",
    "train_size = 252 # one year\n",
    "threshold = 0.001 # threshold for significant signal strength; should be optimized\n",
    "k = 1 # sensitivity to the prediction; should be optimized\n",
    "\n",
    "for start in range(len(X) - train_size - 2):\n",
    "    for strat in strategies:\n",
    "        train_X, train_y = X.iloc[start:start + train_size + 1], y.iloc[start:start + train_size + 1]\n",
    "        test_X, test_y = X.iloc[start + train_size + 1:start + train_size + 2], y.iloc[start + train_size + 1:start + train_size + 2]\n",
    "\n",
    "        scaler = StandardScaler()\n",
    "        train_X = scaler.fit_transform(train_X)\n",
    "        test_X = scaler.transform(test_X)\n",
    "\n",
    "        if strat == \"OLS\":\n",
    "            ols = LinearRegression()\n",
    "            ols.fit(train_X, train_y)\n",
    "            predict = ols.predict(test_X)\n",
    "        elif strat == \"LSh\":\n",
    "            model_linear = SavvySh(model_class=\"Linear\")\n",
    "            model_linear.fit(train_X, train_y)\n",
    "            predict = model_linear.predict(test_X)[\"LSh\"]\n",
    "        elif strat == \"SRR\":\n",
    "            model_shrinkage_ridge = SavvySh(model_class=\"ShrinkageRR\")\n",
    "            model_shrinkage_ridge.fit(train_X, train_y)\n",
    "            predict = model_shrinkage_ridge.predict(test_X)[\"SRR\"]\n",
    "        elif strat in [\"SR\", \"GSR\"]:\n",
    "            model_slab = SavvySh(model_class=\"Slab\")\n",
    "            model_slab.fit(train_X, train_y)\n",
    "            tmp_pred = model_slab.predict(test_X)\n",
    "            if strat == \"SR\":\n",
    "                predict = tmp_pred[\"SR\"]\n",
    "            else:\n",
    "                predict = tmp_pred[\"GSR\"]\n",
    "        else:\n",
    "            model_mult = SavvySh(model_class=\"Multiplicative\", include_Sh=True)\n",
    "            model_mult.fit(train_X, train_y)\n",
    "            tmp_pred = model_mult.predict(test_X)\n",
    "            if strat == \"Stein\":\n",
    "                predict = tmp_pred[\"St\"]\n",
    "            elif strat == \"DSh\":\n",
    "                predict = tmp_pred[\"DSh\"]\n",
    "            else:\n",
    "                predict = tmp_pred[\"Sh\"]\n",
    "        predict = predict[0]\n",
    "        # Use sigma to normalize the prediction\n",
    "        sigma = np.std(train_y[-63:])\n",
    "        W = predict / sigma\n",
    "        # Assume that the max/min weight would be +1/-1\n",
    "        W = np.tanh(k * W) if abs(W) > threshold else None\n",
    "\n",
    "        last_wealth = wealth_dict[strat][-1]\n",
    "        last_shares = shares_dict[strat][-1]\n",
    "\n",
    "        curr_wealth = last_wealth + last_shares * raw_y.iloc[start + train_size] * y.iloc[start + train_size]\n",
    "        wealth_dict[strat].append(curr_wealth)\n",
    "        curr_shares = last_shares\n",
    "        if W is not None:\n",
    "            curr_shares = int(last_wealth * W / raw_y.iloc[start + train_size + 1])\n",
    "        shares_dict[strat].append(curr_shares)"
   ]
  }
 ],
 "metadata": {
  "kernelspec": {
   "display_name": ".venv",
   "language": "python",
   "name": "python3"
  },
  "language_info": {
   "codemirror_mode": {
    "name": "ipython",
    "version": 3
   },
   "file_extension": ".py",
   "mimetype": "text/x-python",
   "name": "python",
   "nbconvert_exporter": "python",
   "pygments_lexer": "ipython3",
   "version": "3.11.2"
  }
 },
 "nbformat": 4,
 "nbformat_minor": 5
}
