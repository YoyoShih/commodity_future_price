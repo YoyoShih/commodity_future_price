{
 "cells": [
  {
   "cell_type": "code",
   "execution_count": null,
   "id": "2187c0fa",
   "metadata": {},
   "outputs": [
    {
     "name": "stdout",
     "output_type": "stream",
     "text": [
      "The autoreload extension is already loaded. To reload it, use:\n",
      "  %reload_ext autoreload\n"
     ]
    }
   ],
   "source": [
    "import sys\n",
    "import os\n",
    "sys.path.append(os.path.abspath(\"D:\\\\Python\\\\commodity_futures_price\"))\n",
    "\n",
    "import math\n",
    "\n",
    "import numpy as np\n",
    "import pandas as pd\n",
    "\n",
    "from sklearn.preprocessing import StandardScaler\n",
    "from sklearn.linear_model import LinearRegression\n",
    "\n",
    "# %load_ext autoreload\n",
    "# %autoreload 2\n",
    "%reload_ext autoreload\n",
    "from model.savvy_sh import SavvySh"
   ]
  },
  {
   "cell_type": "markdown",
   "id": "e6d8d06c",
   "metadata": {},
   "source": [
    "### Read the Files of Commodities"
   ]
  },
  {
   "cell_type": "code",
   "execution_count": null,
   "id": "3dd75fa2",
   "metadata": {},
   "outputs": [],
   "source": [
    "df_dict = {}\n",
    "valid_dates = pd.date_range(start=\"2011-01-01\", end=\"2024-12-31\", freq=\"B\")\n",
    "# Read each file in below folder\n",
    "path = \"../data/raw/\"\n",
    "files = os.listdir(path)\n",
    "for file in files:\n",
    "    if file.endswith(\".csv\"):\n",
    "        df = pd.read_csv(os.path.join(path, file), index_col=0, parse_dates=True)\n",
    "        df[\"Return\"] = df.iloc[:, 0:1].apply(lambda x: np.log(x.shift(-1) / x))\n",
    "        df = df.dropna()\n",
    "\n",
    "        non_positive_LA = df[(df[df.columns[0]] <= 0) | (df['Volatility'] <= 0)]\n",
    "        df = df.drop(index=non_positive_LA.index)\n",
    "\n",
    "        df_dict[file[:-4]] = df\n",
    "        valid_dates = valid_dates.intersection(df.index)\n",
    "for name, df in df_dict.items():\n",
    "    df_dict[name] = df[df.index.isin(valid_dates)]"
   ]
  },
  {
   "cell_type": "code",
   "execution_count": null,
   "id": "581ccc6c",
   "metadata": {},
   "outputs": [
    {
     "name": "stdout",
     "output_type": "stream",
     "text": [
      "[(0, 36), (1, 37), (2, 38), (3, 39), (4, 40), (5, 41), (6, 42), (7, 43), (8, 44), (9, 45), (10, 46), (11, 47), (12, 48), (13, 49), (14, 50), (15, 51), (16, 52), (17, 53), (18, 54), (19, 55), (20, 56), (21, 57), (22, 58), (23, 59), (24, 60), (25, 61), (26, 62), (27, 63), (28, 64), (29, 65), (30, 66), (31, 67), (32, 68), (33, 69), (34, 70), (35, 71), (36, 72), (37, 73), (38, 74), (39, 75), (40, 76), (41, 77), (42, 78), (43, 79), (44, 80), (45, 81), (46, 82), (47, 83), (48, 84), (49, 85), (50, 86), (51, 87), (52, 88), (53, 89), (54, 90), (55, 91), (56, 92), (57, 93), (58, 94), (59, 95), (60, 96), (61, 97), (62, 98), (63, 99), (64, 100), (65, 101), (66, 102), (67, 103), (68, 104), (69, 105), (70, 106), (71, 107), (72, 108), (73, 109), (74, 110), (75, 111), (76, 112), (77, 113), (78, 114), (79, 115), (80, 116), (81, 117), (82, 118), (83, 119), (84, 120), (85, 121), (86, 122), (87, 123), (88, 124), (89, 125), (90, 126), (91, 127), (92, 128), (93, 129), (94, 130), (95, 131), (96, 132), (97, 133), (98, 134), (99, 135), (100, 136), (101, 137), (102, 138), (103, 139), (104, 140), (105, 141), (106, 142), (107, 143), (108, 144), (109, 145), (110, 146), (111, 147), (112, 148), (113, 149), (114, 150), (115, 151)]\n"
     ]
    }
   ],
   "source": [
    "dates_len = len(valid_dates)\n",
    "train_size = 3 * 12\n",
    "test_size = 1\n",
    "\n",
    "start_end_list = []\n",
    "start = 0\n",
    "while(start < dates_len - train_size - test_size):\n",
    "    end = start + train_size + test_size - 1\n",
    "    start_end_list.append((start, end))\n",
    "    start = start + test_size\n",
    "\n",
    "# print(start_end_list)"
   ]
  },
  {
   "cell_type": "markdown",
   "id": "844ec641",
   "metadata": {},
   "source": [
    "### Portfolio weighted by returns"
   ]
  },
  {
   "cell_type": "markdown",
   "id": "4b480548",
   "metadata": {},
   "source": [
    "### OLS"
   ]
  },
  {
   "cell_type": "code",
   "execution_count": 154,
   "id": "aa017252",
   "metadata": {},
   "outputs": [],
   "source": [
    "portfolio_return_list = []\n",
    "for start, end in start_end_list:\n",
    "    predicted_returns = {}\n",
    "    for name, df in df_dict.items():\n",
    "        train = df.iloc[start:end - test_size + 1]\n",
    "        train_X, train_y = train.drop(columns=[\"Basis_Momentum\", \"Return\"]), train[\"Return\"]\n",
    "        test_X = df.iloc[end - test_size + 1:end - test_size + 2].drop(columns=[\"Basis_Momentum\", \"Return\"])\n",
    "\n",
    "        ols_scaler = StandardScaler()\n",
    "        train_X = ols_scaler.fit_transform(train_X)\n",
    "        test_X = ols_scaler.transform(test_X)\n",
    "        ols = LinearRegression()\n",
    "        ols.fit(train_X, train_y)\n",
    "        ols_predict = ols.predict(test_X)\n",
    "        # print(name, df.index[end - test_size], ols_predict)\n",
    "        cum_return = ols_predict[0]\n",
    "        predicted_returns[name] = cum_return\n",
    "    \n",
    "    portfolio_return = 0\n",
    "    long_total = sum([(returns if returns > 0 else 0) for _, returns in predicted_returns.items()])\n",
    "    short_total = sum([(abs(returns) if returns < 0 else 0) for _, returns in predicted_returns.items()])\n",
    "\n",
    "    for name, returns in predicted_returns.items():\n",
    "        weight = returns / long_total if returns > 0 else -abs(returns) / short_total\n",
    "        portfolio_return += weight * (df_dict[name].iloc[end - test_size + 2, :1].values[0] / df_dict[name].iloc[end - test_size + 1, 0:1].values[0] - 1)\n",
    "    # print(f\"From {end} to {end + test_size}, the portfolio return is: {portfolio_return}\")\n",
    "    portfolio_return_list.append(portfolio_return)"
   ]
  },
  {
   "cell_type": "code",
   "execution_count": 155,
   "id": "28466400",
   "metadata": {},
   "outputs": [
    {
     "name": "stdout",
     "output_type": "stream",
     "text": [
      "The winning rate is: 0.6637931034482759\n",
      "The final reward is: 11.224324313880913\n"
     ]
    }
   ],
   "source": [
    "winning_rate = sum([1 for r in portfolio_return_list if r > 0]) / len(portfolio_return_list)\n",
    "print(f\"The winning rate is: {winning_rate}\")\n",
    "\n",
    "reward = np.cumprod(1 + np.array(portfolio_return_list)).tolist()\n",
    "print(f\"The final reward is: {reward[-1]}\")"
   ]
  },
  {
   "cell_type": "code",
   "execution_count": 156,
   "id": "50de8327",
   "metadata": {},
   "outputs": [
    {
     "name": "stdout",
     "output_type": "stream",
     "text": [
      "0.06510489305879334\n",
      "1.2279287186831163\n"
     ]
    }
   ],
   "source": [
    "# std of portfolio returns\n",
    "portfolio_return_std = np.std(portfolio_return_list)\n",
    "sharpe_ratio = math.sqrt(12) * np.mean(portfolio_return_list) / portfolio_return_std if portfolio_return_std != 0 else 0\n",
    "print(portfolio_return_std)\n",
    "print(sharpe_ratio)"
   ]
  },
  {
   "cell_type": "markdown",
   "id": "0201beb3",
   "metadata": {},
   "source": [
    "### Stein"
   ]
  },
  {
   "cell_type": "code",
   "execution_count": 157,
   "id": "3ad75013",
   "metadata": {},
   "outputs": [],
   "source": [
    "portfolio_return_list = []\n",
    "for start, end in start_end_list:\n",
    "    predicted_returns = {}\n",
    "    for name, df in df_dict.items():\n",
    "        train = df.iloc[start:end - test_size + 1]\n",
    "        train_X, train_y = train.drop(columns=[\"Basis_Momentum\", \"Return\"]), train[\"Return\"]\n",
    "        test_X = df.iloc[end - test_size + 1:end - test_size + 2].drop(columns=[\"Basis_Momentum\", \"Return\"])\n",
    "\n",
    "        stein_scaler = StandardScaler()\n",
    "        train_X = stein_scaler.fit_transform(train_X)\n",
    "        test_X = stein_scaler.transform(test_X)\n",
    "\n",
    "        model_mult = SavvySh(model_class=\"Multiplicative\")\n",
    "        model_mult.fit(train_X, train_y)\n",
    "        stein_predict = model_mult.predict(test_X)[\"St\"]\n",
    "        # print(name, df.index[end - test_size], stein_predict)\n",
    "        cum_return = stein_predict[0]\n",
    "        predicted_returns[name] = cum_return\n",
    "    \n",
    "    portfolio_return = 0\n",
    "    long_total = sum([(returns if returns > 0 else 0) for _, returns in predicted_returns.items()])\n",
    "    short_total = sum([(abs(returns) if returns < 0 else 0) for _, returns in predicted_returns.items()])\n",
    "\n",
    "    for name, returns in predicted_returns.items():\n",
    "        weight = returns / long_total if returns > 0 else -abs(returns) / short_total\n",
    "        portfolio_return += weight * (df_dict[name].iloc[end - test_size + 2, :1].values[0] / df_dict[name].iloc[end - test_size + 1, 0:1].values[0] - 1)\n",
    "    # print(f\"From {end} to {end + test_size}, the portfolio return is: {portfolio_return}\")\n",
    "    portfolio_return_list.append(portfolio_return)"
   ]
  },
  {
   "cell_type": "code",
   "execution_count": 158,
   "id": "990ab01a",
   "metadata": {},
   "outputs": [
    {
     "name": "stdout",
     "output_type": "stream",
     "text": [
      "The winning rate is: 0.6379310344827587\n",
      "The final reward is: 10.170642741008706\n"
     ]
    }
   ],
   "source": [
    "winning_rate = sum([1 for r in portfolio_return_list if r > 0]) / len(portfolio_return_list)\n",
    "print(f\"The winning rate is: {winning_rate}\")\n",
    "\n",
    "reward = np.cumprod(1 + np.array(portfolio_return_list)).tolist()\n",
    "print(f\"The final reward is: {reward[-1]}\")"
   ]
  },
  {
   "cell_type": "code",
   "execution_count": 159,
   "id": "6f941a34",
   "metadata": {},
   "outputs": [
    {
     "name": "stdout",
     "output_type": "stream",
     "text": [
      "0.06694085039979347\n",
      "1.1549454208147905\n"
     ]
    }
   ],
   "source": [
    "# std of portfolio returns\n",
    "portfolio_return_std = np.std(portfolio_return_list)\n",
    "sharpe_ratio = math.sqrt(12) * np.mean(portfolio_return_list) / portfolio_return_std if portfolio_return_std != 0 else 0\n",
    "print(portfolio_return_std)\n",
    "print(sharpe_ratio)"
   ]
  },
  {
   "cell_type": "markdown",
   "id": "684b5ffb",
   "metadata": {},
   "source": [
    "### DSh"
   ]
  },
  {
   "cell_type": "code",
   "execution_count": 151,
   "id": "8a695298",
   "metadata": {},
   "outputs": [],
   "source": [
    "portfolio_return_list = []\n",
    "for start, end in start_end_list:\n",
    "    predicted_returns = {}\n",
    "    for name, df in df_dict.items():\n",
    "        train = df.iloc[start:end - test_size + 1]\n",
    "        train_X, train_y = train.drop(columns=[\"Basis_Momentum\", \"Return\"]), train[\"Return\"]\n",
    "        test = df.iloc[end - test_size + 1:end - test_size + 2]\n",
    "        test_X, test_y = test.drop(columns=[\"Basis_Momentum\", \"Return\"]), test[\"Return\"]\n",
    "\n",
    "        DSh_scaler = StandardScaler()\n",
    "        train_X = DSh_scaler.fit_transform(train_X)\n",
    "        test_X = DSh_scaler.transform(test_X)\n",
    "\n",
    "        model_mult = SavvySh(model_class=\"Multiplicative\")\n",
    "        model_mult.fit(train_X, train_y)\n",
    "        DSh_predict = model_mult.predict(test_X)[\"DSh\"]\n",
    "        # print(name, df.index[end - test_size], DSh_predict)\n",
    "        cum_return = DSh_predict[0]\n",
    "        predicted_returns[name] = cum_return\n",
    "    \n",
    "    portfolio_return = 0\n",
    "    long_total = sum([(returns if returns > 0 else 0) for _, returns in predicted_returns.items()])\n",
    "    short_total = sum([(abs(returns) if returns < 0 else 0) for _, returns in predicted_returns.items()])\n",
    "\n",
    "    for name, returns in predicted_returns.items():\n",
    "        weight = returns / long_total if returns > 0 else -abs(returns) / short_total\n",
    "        portfolio_return += weight * (df_dict[name].iloc[end - test_size + 2, :1].values[0] / df_dict[name].iloc[end - test_size + 1, 0:1].values[0] - 1)\n",
    "    # print(f\"From {end} to {end + test_size}, the portfolio return is: {portfolio_return}\")\n",
    "    portfolio_return_list.append(portfolio_return)"
   ]
  },
  {
   "cell_type": "code",
   "execution_count": 147,
   "id": "049782d7",
   "metadata": {},
   "outputs": [
    {
     "name": "stdout",
     "output_type": "stream",
     "text": [
      "The winning rate is: 0.7155172413793104\n",
      "The final reward is: 16.321033996735345\n"
     ]
    }
   ],
   "source": [
    "winning_rate = sum([1 for r in portfolio_return_list if r > 0]) / len(portfolio_return_list)\n",
    "print(f\"The winning rate is: {winning_rate}\")\n",
    "\n",
    "reward = np.cumprod(1 + np.array(portfolio_return_list)).tolist()\n",
    "print(f\"The final reward is: {reward[-1]}\")"
   ]
  },
  {
   "cell_type": "code",
   "execution_count": null,
   "id": "426dd05d",
   "metadata": {},
   "outputs": [
    {
     "name": "stdout",
     "output_type": "stream",
     "text": [
      "0.06831533685081274\n",
      "1.3462922334493437\n"
     ]
    }
   ],
   "source": [
    "# std of portfolio returns\n",
    "portfolio_return_std = np.std(portfolio_return_list)\n",
    "sharpe_ratio = math.sqrt(12) * np.mean(portfolio_return_list) / portfolio_return_std if portfolio_return_std != 0 else 0\n",
    "print(portfolio_return_std)\n",
    "print(sharpe_ratio)"
   ]
  }
 ],
 "metadata": {
  "kernelspec": {
   "display_name": ".venv",
   "language": "python",
   "name": "python3"
  },
  "language_info": {
   "codemirror_mode": {
    "name": "ipython",
    "version": 3
   },
   "file_extension": ".py",
   "mimetype": "text/x-python",
   "name": "python",
   "nbconvert_exporter": "python",
   "pygments_lexer": "ipython3",
   "version": "3.11.2"
  }
 },
 "nbformat": 4,
 "nbformat_minor": 5
}
