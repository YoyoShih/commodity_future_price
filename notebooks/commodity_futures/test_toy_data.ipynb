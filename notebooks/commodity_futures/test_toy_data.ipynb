{
 "cells": [
  {
   "cell_type": "markdown",
   "id": "3d6a213b",
   "metadata": {},
   "source": [
    "### Using Toy Data for Code Correctness Checking"
   ]
  },
  {
   "cell_type": "code",
   "execution_count": 1,
   "id": "6ce988a1",
   "metadata": {},
   "outputs": [],
   "source": [
    "import sys\n",
    "import os\n",
    "sys.path.append(os.path.abspath(\"D:\\\\Python\\\\commodity_futures_price\"))\n",
    "import math\n",
    "\n",
    "import numpy as np\n",
    "import pandas as pd\n",
    "# %load_ext autoreload\n",
    "# %autoreload 2\n",
    "%reload_ext autoreload\n",
    "from model.savvy_sh import SavvySh\n",
    "\n",
    "# Fix random seed\n",
    "np.random.seed(223)\n",
    "\n",
    "# Generate test data\n",
    "n_obs = 100   # number of observations\n",
    "n_features = 5  # number of predictors\n",
    "\n",
    "# Random predictors\n",
    "X = np.random.randn(n_obs, n_features)\n",
    "# True coefficients\n",
    "beta_true = np.array([1.5, -2.0, 0.5, 0.0, 1.0])\n",
    "# Noise\n",
    "sigma = 0.5\n",
    "epsilon = np.random.randn(n_obs) * sigma\n",
    "# Response\n",
    "y = X @ beta_true + epsilon\n",
    "\n",
    "test_X = np.random.randn(50, 5)\n",
    "# True coefficients\n",
    "beta_true = np.array([1.5, -2.0, 0.5, 0.0, 1.0])\n",
    "# Noise\n",
    "sigma = 0.5\n",
    "epsilon = np.random.randn(50) * sigma\n",
    "# Response\n",
    "test_y = test_X @ beta_true + epsilon"
   ]
  },
  {
   "cell_type": "code",
   "execution_count": 2,
   "id": "08b7e4a2",
   "metadata": {},
   "outputs": [
    {
     "name": "stdout",
     "output_type": "stream",
     "text": [
      "OLS:  0.0018617194173899954 [ 1.46302069 -1.96949052  0.52502162  0.02515925  1.10123564]\n"
     ]
    }
   ],
   "source": [
    "from sklearn.linear_model import LinearRegression\n",
    "\n",
    "base_model = LinearRegression()\n",
    "base_model.fit(X, y)\n",
    "print(\"OLS: \", base_model.intercept_, base_model.coef_)\n",
    "rmse_ols = np.sqrt(np.mean((base_model.predict(test_X) - test_y) ** 2))"
   ]
  },
  {
   "cell_type": "code",
   "execution_count": 3,
   "id": "ac16dc78",
   "metadata": {},
   "outputs": [
    {
     "name": "stdout",
     "output_type": "stream",
     "text": [
      "Ridge:  0.0018617160325871962 [ 1.46302049 -1.96949035  0.52502163  0.0251593   1.10123558]\n"
     ]
    }
   ],
   "source": [
    "# Ridge regression\n",
    "from sklearn.linear_model import Ridge\n",
    "from sklearn.model_selection import GridSearchCV, KFold\n",
    "\n",
    "kf = KFold(n_splits=5, shuffle=True, random_state=223)\n",
    "\n",
    "params = {\"alpha\":np.arange(0.00001, 10, 500)}\n",
    "ridge_model = Ridge()\n",
    "ridge_cv = GridSearchCV(ridge_model, param_grid=params, cv=kf)\n",
    "ridge_cv.fit(X, y)\n",
    "\n",
    "ridge = Ridge(alpha=ridge_cv.best_params_['alpha'])\n",
    "ridge.fit(X, y)\n",
    "print(\"Ridge: \", ridge.intercept_, ridge.coef_)\n",
    "rmse_ridge = np.sqrt(np.mean((y - ridge.predict(X)) ** 2))"
   ]
  },
  {
   "cell_type": "code",
   "execution_count": 4,
   "id": "1fdc712b",
   "metadata": {},
   "outputs": [
    {
     "name": "stdout",
     "output_type": "stream",
     "text": [
      "St:  [ 0.001856  1.458795 -1.963802  0.523505  0.025087  1.098055]\n",
      "DSh:  [ 0.000002  1.459792 -1.968123  0.519263  0.003677  1.097738]\n",
      "Sh:  [ 0.001815  1.460336 -1.967287  0.525077  0.02577   1.100385]\n",
      "L Sh:  [ 0.        1.462792 -1.969272  0.526177  0.02613   1.102485]\n",
      "Slab:  [-0.140148  1.390711 -2.082399  0.415773 -0.052041  0.98366 ]\n",
      "G Slab:  [-0.081332  1.379827 -2.052684  0.441828 -0.058034  1.018042]\n",
      "Sh Ridge:  [ 0.001859  1.462975 -1.969501  0.525058  0.025192  1.101261]\n"
     ]
    }
   ],
   "source": [
    "model_mult = SavvySh(model_class=\"Multiplicative\", include_Sh=True)\n",
    "model_mult.fit(X, y)\n",
    "\n",
    "# Assume that each covariate is independent\n",
    "model_linear = SavvySh(model_class=\"Linear\")\n",
    "model_linear.fit(X, y)\n",
    "\n",
    "model_slab = SavvySh(model_class=\"Slab\")\n",
    "model_slab.fit(X, y)\n",
    "\n",
    "model_shrink_ridge = SavvySh(model_class=\"ShrinkageRR\")\n",
    "model_shrink_ridge.fit(X, y)\n",
    "\n",
    "np.set_printoptions(suppress=True, precision=6)\n",
    "print(\"St: \", model_mult.coef_[\"St\"])\n",
    "print(\"DSh: \", model_mult.coef_[\"DSh\"])\n",
    "print(\"Sh: \", model_mult.coef_[\"Sh\"])\n",
    "# intercept as 0\n",
    "print(\"L Sh: \", np.hstack([0, model_linear.coef_[\"LSh\"]]))\n",
    "print(\"Slab: \", model_slab.coef_[\"SR\"])\n",
    "print(\"G Slab: \", model_slab.coef_[\"GSR\"])\n",
    "print(\"Sh Ridge: \", model_shrink_ridge.coef_[\"SRR\"])"
   ]
  },
  {
   "cell_type": "code",
   "execution_count": 5,
   "id": "7a5f9a44",
   "metadata": {},
   "outputs": [
    {
     "name": "stdout",
     "output_type": "stream",
     "text": [
      "RMSE\n",
      "Baseline - OLS:  0.5814310951189064\n",
      "Baseline - Ridge:  0.590639356884776\n",
      "St: 0.5798729915371537\n",
      "DSh: 0.5828927946929143\n",
      "Sh: 0.5809127977742464\n",
      "LSh: 0.5813029297459028\n",
      "SR: 0.5538234530098122\n",
      "GSR: 0.5644118807710132\n",
      "SRR: 0.5814391993192146\n"
     ]
    }
   ],
   "source": [
    "# prediction\n",
    "print(\"RMSE\")\n",
    "print(\"Baseline - OLS: \", rmse_ols)\n",
    "print(\"Baseline - Ridge: \", rmse_ridge)\n",
    "y_pred_mult = model_mult.predict(test_X)\n",
    "for key, value in y_pred_mult.items():\n",
    "    print(key, end=': ')\n",
    "    temp_rmse = np.sqrt(np.mean((test_y - value) ** 2))\n",
    "    print(temp_rmse)\n",
    "\n",
    "y_pred_linear = model_linear.predict(test_X)\n",
    "for key, value in y_pred_linear.items():\n",
    "    print(key, end=': ')\n",
    "    temp_rmse = np.sqrt(np.mean((test_y - value) ** 2))\n",
    "    print(temp_rmse)\n",
    "\n",
    "y_pred_slab = model_slab.predict(test_X)\n",
    "for key, value in y_pred_slab.items():\n",
    "    print(key, end=': ')\n",
    "    temp_rmse = np.sqrt(np.mean((test_y - value) ** 2))\n",
    "    print(temp_rmse)\n",
    "\n",
    "y_pred_shrink_ridge = model_shrink_ridge.predict(test_X)\n",
    "for key, value in y_pred_shrink_ridge.items():\n",
    "    print(key, end=': ')\n",
    "    temp_rmse = np.sqrt(np.mean((test_y - value) ** 2))\n",
    "    print(temp_rmse)"
   ]
  }
 ],
 "metadata": {
  "kernelspec": {
   "display_name": ".venv",
   "language": "python",
   "name": "python3"
  },
  "language_info": {
   "codemirror_mode": {
    "name": "ipython",
    "version": 3
   },
   "file_extension": ".py",
   "mimetype": "text/x-python",
   "name": "python",
   "nbconvert_exporter": "python",
   "pygments_lexer": "ipython3",
   "version": "3.11.2"
  }
 },
 "nbformat": 4,
 "nbformat_minor": 5
}
